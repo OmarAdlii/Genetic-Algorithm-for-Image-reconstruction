{
 "cells": [
  {
   "cell_type": "code",
   "execution_count": null,
   "id": "08fd71a4",
   "metadata": {},
   "outputs": [],
   "source": [
    "import numpy as np\n",
    "import matplotlib.pyplot as plt\n",
    "import cv2"
   ]
  },
  {
   "cell_type": "code",
   "execution_count": null,
   "id": "a2709b68",
   "metadata": {},
   "outputs": [],
   "source": [
    "# Load and display the original image\n",
    "img = cv2.imread('istockphoto-1212285302-612x612.jpg', 0)\n",
    "img = cv2.resize(img, (150, 150))"
   ]
  },
  {
   "cell_type": "code",
   "execution_count": null,
   "id": "Y5MA6KHtRWJ0",
   "metadata": {
    "colab": {
     "base_uri": "https://localhost:8080/",
     "height": 423
    },
    "id": "Y5MA6KHtRWJ0",
    "outputId": "f2c71dbb-4a3f-4a75-cfc6-4e15e1ad3a3c"
   },
   "outputs": [],
   "source": [
    "plt.axis('off')\n",
    "plt.imshow(img,cmap='gray')\n",
    "plt.show()"
   ]
  },
  {
   "cell_type": "code",
   "execution_count": null,
   "id": "e2e65902",
   "metadata": {},
   "outputs": [],
   "source": [
    "print(f'image shape: {img.shape}', f'Number of genes:{img.size}')"
   ]
  },
  {
   "cell_type": "code",
   "execution_count": null,
   "id": "7098df9b",
   "metadata": {},
   "outputs": [],
   "source": [
    "# Convert image to chromosome representation\n",
    "image = np.asarray(img / 255, dtype=np.float16)\n",
    "target_chromosome = image.flatten()"
   ]
  },
  {
   "cell_type": "code",
   "execution_count": null,
   "id": "ho78lMc4RlFP",
   "metadata": {
    "id": "ho78lMc4RlFP"
   },
   "outputs": [],
   "source": [
    "# Define the fitness function\n",
    "def fitness_fun(solution):\n",
    "    fitness = np.sum(np.abs(target_chromosome - solution))\n",
    "    fitness = np.sum(target_chromosome) - fitness\n",
    "    return fitness"
   ]
  },
  {
   "cell_type": "code",
   "execution_count": null,
   "id": "dDarbbYcRlK-",
   "metadata": {
    "id": "dDarbbYcRlK-"
   },
   "outputs": [],
   "source": [
    "def GA(num_generations, num_parents_mating, fitness_func, sol_per_pop, num_genes,\n",
    "       init_range_low, init_range_high, mutation_percent_genes,\n",
    "       random_mutation_min_val, random_mutation_max_val):\n",
    "\n",
    "    population = initialize_population(sol_per_pop, num_genes, init_range_low, init_range_high)\n",
    "\n",
    "    best_solution = None\n",
    "    best_solution_fitness = -np.inf\n",
    "    best_solution_generation = -1\n",
    "    best_solution_array = np.empty(int(num_generations/100))\n",
    "    index=0\n",
    "    \n",
    "    for generation in range(num_generations):\n",
    "        fitness = np.array([fitness_func(solution) for solution in population])\n",
    "\n",
    "        best_solution_idx = np.argmax(fitness)\n",
    "        if fitness[best_solution_idx] > best_solution_fitness:\n",
    "            best_solution = population[best_solution_idx]\n",
    "            best_solution_fitness = fitness[best_solution_idx]\n",
    "            best_solution_generation = generation\n",
    "\n",
    "        parents = select_parents(population, fitness, num_parents_mating)\n",
    "\n",
    "        offspring_crossover = crossover(parents, sol_per_pop - num_parents_mating)\n",
    "\n",
    "        offspring_mutation = mutate(offspring_crossover, mutation_percent_genes,\n",
    "                                    random_mutation_min_val, random_mutation_max_val)\n",
    "\n",
    "        population[:num_parents_mating] = parents\n",
    "        population[num_parents_mating:] = offspring_mutation\n",
    "        \n",
    "        if generation % 100 == 0:\n",
    "            print(\"Generation:\", generation, \", best_solution_fitness:\", best_solution_fitness)\n",
    "            best_solution_array[index]=best_solution_fitness\n",
    "            index+=1\n",
    "\n",
    "    return best_solution_array,best_solution, best_solution_fitness, best_solution_generation\n",
    "\n",
    "def initialize_population(sol_per_pop, num_genes, init_range_low, init_range_high):\n",
    "    population = np.random.uniform(low=init_range_low, high=init_range_high,\n",
    "                                   size=(sol_per_pop, num_genes))\n",
    "    return population\n",
    "\n",
    "def select_parents(population, fitness, num_parents_mating):\n",
    "    parents_indices = np.argsort(fitness)[-num_parents_mating:]\n",
    "    parents = population[parents_indices]\n",
    "    return parents\n",
    "\n",
    "def crossover(parents, num_offspring):\n",
    "    offspring = np.empty((num_offspring, parents.shape[1]))\n",
    "\n",
    "    for idx in range(num_offspring):\n",
    "        parent1_idx = idx % parents.shape[0]\n",
    "        parent2_idx = (idx+1) % parents.shape[0]\n",
    "        crossover_point = np.random.randint(1, parents.shape[1])\n",
    "        offspring[idx] = np.concatenate((parents[parent1_idx][:crossover_point],\n",
    "                                          parents[parent2_idx][crossover_point:]))\n",
    "\n",
    "    return offspring\n",
    "\n",
    "def mutate(offspring_crossover,mutation_percent_genes,\n",
    "           random_mutation_min_val, random_mutation_max_val):\n",
    "    mask = np.random.choice([True, False], size=offspring_crossover.shape,\n",
    "                            p=[mutation_percent_genes, 1 - mutation_percent_genes])\n",
    "    random_mutation = np.random.uniform(low=random_mutation_min_val,high=random_mutation_max_val,\n",
    "                                                    size=offspring_crossover.shape)\n",
    "    offspring_crossover[mask] = random_mutation[mask]\n",
    "       \n",
    "\n",
    "    return offspring_crossover\n"
   ]
  },
  {
   "cell_type": "code",
   "execution_count": null,
   "id": "1v4Izm5wRv5O",
   "metadata": {
    "colab": {
     "background_save": true,
     "base_uri": "https://localhost:8080/"
    },
    "id": "1v4Izm5wRv5O",
    "outputId": "a357ce14-ad3d-4a65-8e26-7ab197a3e17b",
    "scrolled": true
   },
   "outputs": [],
   "source": [
    "# Define the GA parameters\n",
    "num_generations = 30000\n",
    "num_parents_mating = 1\n",
    "sol_per_pop = 10\n",
    "num_genes = image.size\n",
    "init_range_low = 0.0\n",
    "init_range_high = 1.0\n",
    "mutation_percent_genes = 0.000095\n",
    "random_mutation_min_val = 0.0\n",
    "random_mutation_max_val = 1.0\n",
    "\n",
    "# Run the GA\n",
    "best_solution_array, best_solution, best_solution_fitness, best_solution_generation = GA(num_generations=num_generations,\n",
    "                                                                     num_parents_mating=num_parents_mating,\n",
    "                                                                     fitness_func=fitness_fun,\n",
    "                                                                     sol_per_pop=sol_per_pop,\n",
    "                                                                     num_genes=num_genes,\n",
    "                                                                     init_range_low=init_range_low,\n",
    "                                                                     init_range_high=init_range_high,\n",
    "                                                                     mutation_percent_genes=mutation_percent_genes,\n",
    "                                                                     \n",
    "                                                                     random_mutation_min_val=random_mutation_min_val,\n",
    "                                                                     random_mutation_max_val=random_mutation_max_val,\n",
    "                                                                    )\n"
   ]
  },
  {
   "cell_type": "code",
   "execution_count": null,
   "id": "28e6109d",
   "metadata": {},
   "outputs": [],
   "source": [
    "x=np.arange(0,num_generations,100)\n",
    "\n",
    "plt.plot(x,best_solution_array)\n",
    "plt.xlabel('Generation')\n",
    "plt.ylabel('Fitness')\n",
    "plt.title('Fitness Progress')\n",
    "plt.show()\n",
    "\n",
    "print(f\"Fitness value of the best solution = {best_solution_fitness}\")\n",
    "print(f\"Best fitness value reached after {best_solution_generation} generations.\")\n"
   ]
  },
  {
   "cell_type": "code",
   "execution_count": null,
   "id": "dJ5TLolfacCz",
   "metadata": {
    "colab": {
     "background_save": true
    },
    "id": "dJ5TLolfacCz",
    "outputId": "330c829b-6b1d-40e7-8cc8-0f5ad5273e72"
   },
   "outputs": [],
   "source": [
    "result = best_solution.reshape(150,150)\n",
    "cv2.imwrite('Image_reconstruction.jpg',(result*255).astype(int))\n",
    "image=cv2.imread('Image_reconstruction.jpg',0)\n",
    "plt.axis('off')\n",
    "plt.imshow(image,cmap='gray')\n",
    "plt.title('Reproduction image')\n",
    "plt.show()"
   ]
  },
  {
   "cell_type": "code",
   "execution_count": null,
   "id": "d567a6e5",
   "metadata": {},
   "outputs": [],
   "source": [
    "plt.figure(figsize=(15,8))\n",
    "plt.subplot(1,2,1)\n",
    "plt.title('original image')\n",
    "plt.axis('off')\n",
    "plt.imshow(img,cmap='gray')\n",
    "plt.subplot(1,2,2)\n",
    "plt.axis('off')\n",
    "plt.title('Reproduction image')\n",
    "plt.imshow(image,cmap='gray')\n",
    "plt.show()"
   ]
  },
  {
   "cell_type": "code",
   "execution_count": null,
   "id": "92883dc7",
   "metadata": {},
   "outputs": [],
   "source": []
  }
 ],
 "metadata": {
  "colab": {
   "provenance": []
  },
  "kernelspec": {
   "display_name": "Python 3 (ipykernel)",
   "language": "python",
   "name": "python3"
  },
  "language_info": {
   "codemirror_mode": {
    "name": "ipython",
    "version": 3
   },
   "file_extension": ".py",
   "mimetype": "text/x-python",
   "name": "python",
   "nbconvert_exporter": "python",
   "pygments_lexer": "ipython3",
   "version": "3.9.13"
  }
 },
 "nbformat": 4,
 "nbformat_minor": 5
}
